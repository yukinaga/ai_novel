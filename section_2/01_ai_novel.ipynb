{
  "cells": [
    {
      "cell_type": "markdown",
      "metadata": {
        "id": "view-in-github",
        "colab_type": "text"
      },
      "source": [
        "<a href=\"https://colab.research.google.com/github/yukinaga/ai_novel/blob/main/section_2/01_ai_novel.ipynb\" target=\"_parent\"><img src=\"https://colab.research.google.com/assets/colab-badge.svg\" alt=\"Open In Colab\"/></a>"
      ]
    },
    {
      "cell_type": "markdown",
      "metadata": {
        "id": "dPkdg9jTjkTd"
      },
      "source": [
        "# AIによる小説の執筆\n",
        "川端康成風の文章を生成しましょう。    \n",
        "GPT-2のモデルを読み込み、各設定を行った上で小説を執筆します。  "
      ]
    },
    {
      "cell_type": "markdown",
      "metadata": {
        "id": "oPKARfZNZ_EA"
      },
      "source": [
        "## ライブラリのインストール\n",
        "GPT-2が含まれるライブラリtransformers、形態素解析（≒単語分割）のためのライブラリsentencepieceをインストールします。"
      ]
    },
    {
      "cell_type": "code",
      "execution_count": null,
      "metadata": {
        "id": "PRTOCXhK9YAM"
      },
      "outputs": [],
      "source": [
        "!pip install transformers\n",
        "!pip install sentencepiece"
      ]
    },
    {
      "cell_type": "markdown",
      "metadata": {
        "id": "oLSgiA6Uktpm"
      },
      "source": [
        "## GPT-2の設定\n",
        "\n",
        "今回は、`rinna/japanese-gpt2-medium `を読み込みます。   "
      ]
    },
    {
      "cell_type": "code",
      "execution_count": null,
      "metadata": {
        "id": "71dgCmmBli-s"
      },
      "outputs": [],
      "source": [
        "from transformers import T5Tokenizer, AutoModelForCausalLM\n",
        "\n",
        "tokenizer = T5Tokenizer.from_pretrained(\"rinna/japanese-gpt2-medium\")\n",
        "model = AutoModelForCausalLM.from_pretrained(\"rinna/japanese-gpt2-medium\")"
      ]
    },
    {
      "cell_type": "markdown",
      "metadata": {
        "id": "X7EUJRa31Q9c"
      },
      "source": [
        "## 文章を生成する関数\n",
        "入力文章から続きの文章を生成する関数を設定します。  \n",
        "まずは、トークナイザーを使って、始まりの文章をモデルへの入力に変換します。  \n",
        "`encode()`メソッドでは、`return_tensors`を`\"pt\"`に設定することで、データがPyTorchのTensor型に変換されるようになります。  \n",
        "また、`add_special_tokens`を`False`に設定することで、文頭やマスクなどの特殊トークンを除くようになります。  \n",
        "**参考**: https://huggingface.co/docs/transformers/v4.21.2/en/main_classes/tokenizer#transformers.PreTrainedTokenizer  \n",
        "  \n",
        "次に、各設定と共にモデルから文章の生成を行います。  \n",
        "**generateメソッドの設定**: https://huggingface.co/docs/transformers/main_classes/text_generation#transformers.generation_utils.GenerationMixin.generate  \n",
        "今回は一度に複数の文章を生成します。  \n",
        "モデルの出力を文章に変換し、返り値とします。  "
      ]
    },
    {
      "cell_type": "code",
      "source": [
        "def getarate_sentences(seed_sentence):\n",
        "    x = tokenizer.encode(seed_sentence, return_tensors=\"pt\", add_special_tokens=False)  # 入力\n",
        "    y = model.generate(x, #　入力\n",
        "                       min_length=50,  # 文章の最小長\n",
        "                       max_length=100,  # 文章の最大長\n",
        "                       do_sample=True,   # 次の単語を確率で選ぶ\n",
        "                       top_k=50, # Top-Kサンプリング\n",
        "                       top_p=0.95,  # Top-pサンプリング\n",
        "                       temperature=1.2,  # 確率分布の調整\n",
        "                       num_return_sequences=3,  # 生成する文章の数\n",
        "                       pad_token_id=tokenizer.pad_token_id,  # パディングのトークンID\n",
        "                       bos_token_id=tokenizer.bos_token_id,  # テキスト先頭のトークンID\n",
        "                       eos_token_id=tokenizer.eos_token_id,  # テキスト終端のトークンID\n",
        "                       bad_word_ids=[[tokenizer.unk_token_id]]  # 生成が許可されないトークンID\n",
        "                       )  \n",
        "    generated_sentences = tokenizer.batch_decode(y, skip_special_tokens=True)  # 特殊トークンをスキップして文章に変換\n",
        "    return generated_sentences"
      ],
      "metadata": {
        "id": "epDs2MTmoAMm"
      },
      "execution_count": null,
      "outputs": []
    },
    {
      "cell_type": "markdown",
      "source": [
        "## 文章の生成\n",
        "川端康成の小説の冒頭をシードにして、GPT-2により小説を執筆します。"
      ],
      "metadata": {
        "id": "fHLATx0yyrcd"
      }
    },
    {
      "cell_type": "code",
      "source": [
        "seed_sentence = \"国境の長いトンネルを抜けると雪国であった。\"  # 川端康成の小説の冒頭\n",
        "generated_sentences = getarate_sentences(seed_sentence)  # 生成された文章\n",
        "for sentence in generated_sentences:\n",
        "    print(sentence)"
      ],
      "metadata": {
        "id": "1iN5E0gYgMHa"
      },
      "execution_count": null,
      "outputs": []
    },
    {
      "cell_type": "markdown",
      "source": [
        "シードの文章にアレンジを加えましょう。"
      ],
      "metadata": {
        "id": "hzM3Ph1s7zUq"
      }
    },
    {
      "cell_type": "code",
      "source": [
        "seed_sentence = \"国境の長いトンネルを抜けると大都会であった。\"  # シード文章\n",
        "generated_sentences = getarate_sentences(seed_sentence)  # 生成された文章\n",
        "for sentence in generated_sentences:\n",
        "    print(sentence)"
      ],
      "metadata": {
        "id": "6czc3auU7yti"
      },
      "execution_count": null,
      "outputs": []
    },
    {
      "cell_type": "markdown",
      "source": [
        "## 文章の保存\n",
        "生成した文章を、txtファイルに保存します。  "
      ],
      "metadata": {
        "id": "q-qDPs4HzTaK"
      }
    },
    {
      "cell_type": "code",
      "source": [
        "with open(\"ai_yasunari.txt\", \"w\") as f:\n",
        "    f.write(generated_sentences[0])"
      ],
      "metadata": {
        "id": "gElWAtv1wl7m"
      },
      "execution_count": null,
      "outputs": []
    }
  ],
  "metadata": {
    "colab": {
      "collapsed_sections": [],
      "provenance": [],
      "authorship_tag": "ABX9TyOG7yNdI7enUVj8LuZgJTM1",
      "include_colab_link": true
    },
    "kernelspec": {
      "display_name": "Python 3",
      "name": "python3"
    },
    "language_info": {
      "name": "python"
    }
  },
  "nbformat": 4,
  "nbformat_minor": 0
}