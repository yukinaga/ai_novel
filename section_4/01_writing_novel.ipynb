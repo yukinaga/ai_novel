{
  "cells": [
    {
      "cell_type": "markdown",
      "metadata": {
        "id": "view-in-github",
        "colab_type": "text"
      },
      "source": [
        "<a href=\"https://colab.research.google.com/github/yukinaga/ai_novel/blob/main/section_4/01_writing_novel.ipynb\" target=\"_parent\"><img src=\"https://colab.research.google.com/assets/colab-badge.svg\" alt=\"Open In Colab\"/></a>"
      ]
    },
    {
      "cell_type": "markdown",
      "metadata": {
        "id": "dPkdg9jTjkTd"
      },
      "source": [
        "# AI執筆の実践\n",
        "AIと人間が協力して小説を執筆します。  \n",
        "今回もGPT-2のモデルに対してファインチューニングは行いませんが、必要であればSection3を参考にファインチューニングを試してください。  \n",
        "学習に時間がかかるので、「編集」→「ノートブックの設定」の「ハードウェアアクセラレーター」で「GPU」を選択しましょう。   "
      ]
    },
    {
      "cell_type": "markdown",
      "metadata": {
        "id": "oPKARfZNZ_EA"
      },
      "source": [
        "## ライブラリのインストール\n",
        "GPT-2が含まれるライブラリtransformers、形態素解析（≒単語分割）のためのライブラリsentencepieceをインストールします。"
      ]
    },
    {
      "cell_type": "code",
      "execution_count": null,
      "metadata": {
        "id": "PRTOCXhK9YAM"
      },
      "outputs": [],
      "source": [
        "!pip install transformers\n",
        "!pip install sentencepiece"
      ]
    },
    {
      "cell_type": "markdown",
      "metadata": {
        "id": "oLSgiA6Uktpm"
      },
      "source": [
        "## GPT-2の設定\n",
        "\n",
        "今回は、13億のパラメータを持つ`rinna/japanese-gpt-1b`を読み込みます。   \n",
        "https://huggingface.co/rinna/japanese-gpt-1b"
      ]
    },
    {
      "cell_type": "code",
      "execution_count": null,
      "metadata": {
        "id": "71dgCmmBli-s"
      },
      "outputs": [],
      "source": [
        "from transformers import T5Tokenizer, AutoModelForCausalLM\n",
        "\n",
        "tokenizer = T5Tokenizer.from_pretrained(\"rinna/japanese-gpt-1b\")\n",
        "model = AutoModelForCausalLM.from_pretrained(\"rinna/japanese-gpt-1b\")\n",
        "model.cuda()  # GPU対応"
      ]
    },
    {
      "cell_type": "markdown",
      "metadata": {
        "id": "X7EUJRa31Q9c"
      },
      "source": [
        "## 文章を生成する関数\n",
        "入力文章から続きの文章を生成する関数を設定します。  \n"
      ]
    },
    {
      "cell_type": "code",
      "source": [
        "def getarate_sentences(seed_sentence, min_length, max_length):\n",
        "    x = tokenizer.encode(seed_sentence, return_tensors=\"pt\", add_special_tokens=False)  # 入力\n",
        "    x = x.cuda()  # GPU対応\n",
        "    y = model.generate(x, #　入力\n",
        "                       min_length=min_length,  # 文章の最小長\n",
        "                       max_length=max_length,  # 文章の最大長\n",
        "                       do_sample=True,   # 次の単語を確率で選ぶ\n",
        "                       top_k=50, # Top-Kサンプリング\n",
        "                       top_p=0.95,  # Top-pサンプリング\n",
        "                       temperature=1.2,  # 確率分布の調整\n",
        "                       num_return_sequences=1,  # 生成する文章の数\n",
        "                       pad_token_id=tokenizer.pad_token_id,  # パディングのトークンID\n",
        "                       bos_token_id=tokenizer.bos_token_id,  # テキスト先頭のトークンID\n",
        "                       eos_token_id=tokenizer.eos_token_id,  # テキスト終端のトークンID\n",
        "                       )  \n",
        "    generated_sentences = tokenizer.batch_decode(y, skip_special_tokens=True)  # 特殊トークンをスキップして文章に変換\n",
        "    return generated_sentences"
      ],
      "metadata": {
        "id": "epDs2MTmoAMm"
      },
      "execution_count": null,
      "outputs": []
    },
    {
      "cell_type": "markdown",
      "source": [
        "## シードの設定\n",
        "文章の書き出しを設定します。  \n",
        "この文章を、「novel_with_ai.txt」に保存します。"
      ],
      "metadata": {
        "id": "fHLATx0yyrcd"
      }
    },
    {
      "cell_type": "code",
      "source": [
        "seed_sentence = \"東京の空は今日も曇っていた。\" #@param {type:\"string\"}\n",
        "with open(\"novel_with_ai.txt\", \"w\") as f:\n",
        "    f.write(seed_sentence)  # ファイルの保存"
      ],
      "metadata": {
        "id": "eyu7KppUd_jz"
      },
      "execution_count": null,
      "outputs": []
    },
    {
      "cell_type": "markdown",
      "source": [
        "## 小説の執筆\n",
        "以下の手順で小説を執筆しましょう。  \n",
        "\n",
        "1. 以下のセルを実行し、シード文章をベースにテキストを生成する  \n",
        "2. 画面左の「ファイル」から「novel_with_ai.txt」を開き、生成された文章を確認する  \n",
        "3. 「novel_with_ai.txt」の文章を人の手で修正し、保存して新たなシードとする\n",
        "\n",
        "1-3を繰り返すことで、AIと協力して小説を執筆することができます。   "
      ],
      "metadata": {
        "id": "Boog49naLMG5"
      }
    },
    {
      "cell_type": "code",
      "source": [
        "with open(\"novel_with_ai.txt\", \"r\") as f:\n",
        "    seed_sentence = f.read()  # ファイルの読み込み\n",
        "\n",
        "min_length = len(seed_sentence)  # 文章の最小長\n",
        "max_length = min_length + 50  # 文章の最大長\n",
        "\n",
        "generated_sentence = getarate_sentences(seed_sentence, min_length, max_length)[0]  # 文章の生成\n",
        "\n",
        "seed_len = len(seed_sentence.replace(\"\\n\", \"\").replace(\" \", \"\"))  # 改行と半角を除いた長さ\n",
        "generated_sentence = generated_sentence.replace(\"\\n\", \"\").replace(\" \", \"\")  # 改行と半角を除く\n",
        "seed_sentence = seed_sentence + generated_sentence[seed_len:]  # シードとの差分を追加\n",
        "print(seed_sentence)\n",
        "\n",
        "with open(\"novel_with_ai.txt\", \"w\") as f:\n",
        "    f.write(seed_sentence)  # 新たな文章を保存"
      ],
      "metadata": {
        "id": "1iN5E0gYgMHa"
      },
      "execution_count": null,
      "outputs": []
    }
  ],
  "metadata": {
    "colab": {
      "collapsed_sections": [],
      "provenance": [],
      "authorship_tag": "ABX9TyMJIXpX3zzYb2++K8iZKw2W",
      "include_colab_link": true
    },
    "kernelspec": {
      "display_name": "Python 3",
      "name": "python3"
    },
    "language_info": {
      "name": "python"
    },
    "accelerator": "GPU",
    "gpuClass": "standard"
  },
  "nbformat": 4,
  "nbformat_minor": 0
}