{
  "cells": [
    {
      "cell_type": "markdown",
      "metadata": {
        "id": "view-in-github",
        "colab_type": "text"
      },
      "source": [
        "<a href=\"https://colab.research.google.com/github/yukinaga/ai_novel/blob/main/section_1/01_simple_gpt2.ipynb\" target=\"_parent\"><img src=\"https://colab.research.google.com/assets/colab-badge.svg\" alt=\"Open In Colab\"/></a>"
      ]
    },
    {
      "cell_type": "markdown",
      "metadata": {
        "id": "dPkdg9jTjkTd"
      },
      "source": [
        "# GPT-2を使ってみよう！\n",
        "GPT-2のモデルをダウンロードし、簡単な文章生成を試してみましょう。"
      ]
    },
    {
      "cell_type": "markdown",
      "metadata": {
        "id": "oPKARfZNZ_EA"
      },
      "source": [
        "## ライブラリのインストール\n",
        "GPT-2が含まれるライブラリtransformers、形態素解析（≒単語分割）のためのライブラリsentencepieceをインストールします。"
      ]
    },
    {
      "cell_type": "code",
      "execution_count": null,
      "metadata": {
        "id": "PRTOCXhK9YAM"
      },
      "outputs": [],
      "source": [
        "!pip install transformers\n",
        "!pip install sentencepiece"
      ]
    },
    {
      "cell_type": "markdown",
      "metadata": {
        "id": "oLSgiA6Uktpm"
      },
      "source": [
        "## GPT-2の設定\n",
        "\n",
        "形態素解析のために`T5Tokenizer`を、訓練済みモデルの読み込みのために`AutoModelForCausalLM`を設定します。  \n",
        "今回は、比較的小さいモデル`rinna/japanese-gpt2-xsmall`を読み込みます。   "
      ]
    },
    {
      "cell_type": "code",
      "execution_count": null,
      "metadata": {
        "id": "71dgCmmBli-s"
      },
      "outputs": [],
      "source": [
        "from transformers import T5Tokenizer, AutoModelForCausalLM\n",
        "\n",
        "tokenizer = T5Tokenizer.from_pretrained(\"rinna/japanese-gpt2-xsmall\")\n",
        "model = AutoModelForCausalLM.from_pretrained(\"rinna/japanese-gpt2-xsmall\")"
      ]
    },
    {
      "cell_type": "markdown",
      "metadata": {
        "id": "QhtRBNNf05CA"
      },
      "source": [
        "## 最初の文章を設定\n",
        "トークナイザーを使って、始まりの文章をモデルへの入力に変換します。  \n"
      ]
    },
    {
      "cell_type": "code",
      "execution_count": null,
      "metadata": {
        "id": "EcmmAToP4WE3"
      },
      "outputs": [],
      "source": [
        "first_sentence = \"遠い昔、はるか彼方の銀河系で\"  # 始まりの文章\n",
        "x = tokenizer.encode(first_sentence, return_tensors=\"pt\", add_special_tokens=False)  # 入力"
      ]
    },
    {
      "cell_type": "markdown",
      "metadata": {
        "id": "X7EUJRa31Q9c"
      },
      "source": [
        "## 文章の生成\n",
        "訓練済みのモデルに入力を渡します。  \n",
        "モデルの出力は、トークナイザーを使って文章に変換します。  \n"
      ]
    },
    {
      "cell_type": "code",
      "source": [
        "y = model.generate(x, max_length=100)\n",
        "generated_sentence = tokenizer.batch_decode(y, skip_special_tokens=True)\n",
        "print(generated_sentence)"
      ],
      "metadata": {
        "id": "OHPJIvQoJ5Ze"
      },
      "execution_count": null,
      "outputs": []
    },
    {
      "cell_type": "markdown",
      "source": [
        "`attention_mask`と`pad_token_id`に関する注意が表示されますが、今回は無視します。"
      ],
      "metadata": {
        "id": "iNYhrC3y47dX"
      }
    }
  ],
  "metadata": {
    "colab": {
      "collapsed_sections": [],
      "name": "01_simple_gpt2.ipynb",
      "provenance": [],
      "authorship_tag": "ABX9TyMvdoB6a+nwLT61OYETwyzn",
      "include_colab_link": true
    },
    "kernelspec": {
      "display_name": "Python 3",
      "name": "python3"
    },
    "language_info": {
      "name": "python"
    }
  },
  "nbformat": 4,
  "nbformat_minor": 0
}