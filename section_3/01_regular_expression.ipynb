{
  "nbformat": 4,
  "nbformat_minor": 0,
  "metadata": {
    "colab": {
      "provenance": [],
      "collapsed_sections": [],
      "authorship_tag": "ABX9TyO3GWDnAkqh80orAQdvzZ5k",
      "include_colab_link": true
    },
    "kernelspec": {
      "name": "python3",
      "display_name": "Python 3"
    },
    "language_info": {
      "name": "python"
    }
  },
  "cells": [
    {
      "cell_type": "markdown",
      "metadata": {
        "id": "view-in-github",
        "colab_type": "text"
      },
      "source": [
        "<a href=\"https://colab.research.google.com/github/yukinaga/ai_novel/blob/main/section_3/01_regular_expression.ipynb\" target=\"_parent\"><img src=\"https://colab.research.google.com/assets/colab-badge.svg\" alt=\"Open In Colab\"/></a>"
      ]
    },
    {
      "cell_type": "markdown",
      "metadata": {
        "id": "pV7Dp0ab4lj8"
      },
      "source": [
        "# Pythonにおける正規表現\n",
        "指定したパターンに一致する文字列を置換、抽出したい場合、正規表現がよく使われます。  \n",
        "今回は、自然言語処理において便利な正規表現をいくつか紹介します。  \n",
        "正規表現は、文章に前処理を行う際に活躍します。  "
      ]
    },
    {
      "cell_type": "markdown",
      "metadata": {
        "id": "CrRFj6fa4lj_"
      },
      "source": [
        "## subによる置換\n",
        "正規表現を使う際は、reをインポートします。  \n",
        "`re.sub`により、文字列の置換を行うことができます。"
      ]
    },
    {
      "cell_type": "code",
      "execution_count": 1,
      "metadata": {
        "id": "8Sj-AH_x4lkA",
        "colab": {
          "base_uri": "https://localhost:8080/"
        },
        "outputId": "fb94f784-7ffc-49b2-b91d-05e46285f2ad"
      },
      "outputs": [
        {
          "output_type": "stream",
          "name": "stdout",
          "text": [
            "私はシャム猫が好きです。\n"
          ]
        }
      ],
      "source": [
        "import re\n",
        "\n",
        "s = \"私は柴犬が好きです。\"\n",
        "\n",
        "s = re.sub(\"柴犬\", \"シャム猫\", s)  # 文字列sの「柴犬」を「シャム猫」に置き換える\n",
        "print(s)"
      ]
    },
    {
      "cell_type": "markdown",
      "metadata": {
        "id": "GnM8xlgo4lkB"
      },
      "source": [
        "## 複数の文字の指定\n",
        "以下の例では、複数の文字を別の文字に置き換えています。"
      ]
    },
    {
      "cell_type": "code",
      "execution_count": 2,
      "metadata": {
        "id": "6m3uEzKC4lkB",
        "colab": {
          "base_uri": "https://localhost:8080/"
        },
        "outputId": "98152c8f-9c69-4bbb-d314-e1424946e4ac"
      },
      "outputs": [
        {
          "output_type": "stream",
          "name": "stdout",
          "text": [
            "私は黒馬と白馬が好きです。\n"
          ]
        }
      ],
      "source": [
        "import re\n",
        "\n",
        "s = \"私は黒犬と白猫が好きです。\"\n",
        "\n",
        "s = re.sub(\"[犬猫]\", \"馬\", s)  # []内の各文字（「犬」、「猫」）を「馬」に置き換える\n",
        "print(s)"
      ]
    },
    {
      "cell_type": "markdown",
      "metadata": {
        "id": "k5jJOFb54lkB"
      },
      "source": [
        "[ ]内の各文字を、特定の文字に置き換えることができます。"
      ]
    },
    {
      "cell_type": "markdown",
      "metadata": {
        "id": "fYYDiyOk4lkC"
      },
      "source": [
        "## 否定\n",
        "以下の例では、ある特定の文字以外を置き換えています。"
      ]
    },
    {
      "cell_type": "code",
      "execution_count": 3,
      "metadata": {
        "id": "S06iHIQo4lkC",
        "colab": {
          "base_uri": "https://localhost:8080/"
        },
        "outputId": "35fe4d4f-3e53-428c-9e83-792becf7ee8e"
      },
      "outputs": [
        {
          "output_type": "stream",
          "name": "stdout",
          "text": [
            "馬馬馬犬馬馬猫馬馬馬馬馬馬\n"
          ]
        }
      ],
      "source": [
        "import re\n",
        "\n",
        "s = \"私は黒犬と白猫が好きです。\"\n",
        "\n",
        "s = re.sub(\"[^犬猫]\", \"馬\", s)  # 「犬」、「猫」以外を「馬」に置き換える\n",
        "print(s)"
      ]
    },
    {
      "cell_type": "markdown",
      "metadata": {
        "id": "3pA4MgpL4lkD"
      },
      "source": [
        "^を使うことで、「犬」、「猫」以外の全ての文字が「馬」と入れ替わりました。"
      ]
    },
    {
      "cell_type": "markdown",
      "metadata": {
        "id": "XwMXi0VB4lkD"
      },
      "source": [
        "## 繰り返し\n",
        "以下の例では、\\+ の記号を使用することで文字の１回以上の繰り返しを表現しています。"
      ]
    },
    {
      "cell_type": "code",
      "execution_count": 4,
      "metadata": {
        "id": "jL90-ec14lkE",
        "colab": {
          "base_uri": "https://localhost:8080/"
        },
        "outputId": "28cd2250-eaa1-4444-da2f-d7bd406b8d2e"
      },
      "outputs": [
        {
          "output_type": "stream",
          "name": "stdout",
          "text": [
            "私は柴犬が好きです。\n"
          ]
        }
      ],
      "source": [
        "import re\n",
        "\n",
        "s = \"私は柴犬犬犬犬犬犬犬犬犬犬犬犬犬が好きです。\"\n",
        "\n",
        "s = re.sub(\"犬+\", \"犬\", s)  # 「犬」の繰り返しを「犬」に置き換える\n",
        "print(s)"
      ]
    },
    {
      "cell_type": "markdown",
      "metadata": {
        "id": "9af8WoNk4lkE"
      },
      "source": [
        "「犬」の繰り返しを、「犬」に置き換えました。"
      ]
    },
    {
      "cell_type": "markdown",
      "metadata": {
        "id": "pFCFecxz4lkE"
      },
      "source": [
        "## ルビの除去\n",
        "これまで学んできた正規表現のルールを組み合わせて、文字列からルビを除去します。"
      ]
    },
    {
      "cell_type": "code",
      "execution_count": 5,
      "metadata": {
        "id": "IuKl61Qq4lkE",
        "colab": {
          "base_uri": "https://localhost:8080/"
        },
        "outputId": "f887ef8a-0d77-40b6-ea4b-c558022f67c9"
      },
      "outputs": [
        {
          "output_type": "stream",
          "name": "stdout",
          "text": [
            "私は柴犬とシャム猫が大好きです。\n"
          ]
        }
      ],
      "source": [
        "import re\n",
        "\n",
        "s = \"私は柴犬【しばいぬ】とシャム猫【しゃむねこ】が大好きです。\"\n",
        "\n",
        "s = re.sub(\"【[^】]+】\", \"\", s)  # 【と】の間に】以外の文字が複数ある箇所を、空の文字列に置き換える\n",
        "print(s)"
      ]
    },
    {
      "cell_type": "markdown",
      "metadata": {
        "id": "wVCElxZ44lkF"
      },
      "source": [
        "`[^】]+`の箇所は、】以外の文字の繰り返しを意味します。  \n",
        "従って、`【[^】]+】`は【と】の間に】以外の文字が複数ある箇所を表します。"
      ]
    },
    {
      "cell_type": "markdown",
      "metadata": {
        "id": "MR8s-ar64lkF"
      },
      "source": [
        "## エクササイズ:\n",
        "以下のコードにおける文字列sから、正規表現を使ってルビを除去してみましょう。"
      ]
    },
    {
      "cell_type": "code",
      "execution_count": 6,
      "metadata": {
        "collapsed": true,
        "id": "P-3xBHQO4lkF"
      },
      "outputs": [],
      "source": [
        "import re\n",
        "\n",
        "s = \"白馬【はくば】に乗って、草原【そうげん】を駆けるのが夢です。\""
      ]
    }
  ]
}